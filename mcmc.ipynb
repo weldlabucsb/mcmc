{
  "nbformat": 4,
  "nbformat_minor": 0,
  "metadata": {
    "colab": {
      "name": "mcmc.ipynb",
      "provenance": [],
      "collapsed_sections": []
    },
    "kernelspec": {
      "name": "python3",
      "display_name": "Python 3"
    }
  },
  "cells": [
    {
      "cell_type": "code",
      "metadata": {
        "id": "P1uhEQp4-4nZ",
        "colab_type": "code",
        "colab": {}
      },
      "source": [
        "#Goal of this notebook is to create some simple code that can take a 1d array which we will suppose we have, i.e. it will be one of the inputs\n",
        "#and we will take it and compare it to simulated data.\n",
        "\n",
        "## Imports:\n",
        "\n",
        "import numpy as np\n",
        "import tensorflow as tf\n",
        "import tensorflow_probability as tfp\n",
        "from scipy.integrate import odeint\n",
        "from scipy.interpolate import interp1d\n",
        "from scipy.integrate import solve_ivp\n",
        "from multiprocessing import Process, Queue\n",
        "import time\n",
        "import matplotlib.pyplot as plt\n",
        "\n",
        "tfd = tfp.distributions"
      ],
      "execution_count": 1,
      "outputs": []
    },
    {
      "cell_type": "code",
      "metadata": {
        "id": "fvJ0bdl2TT1L",
        "colab_type": "code",
        "colab": {
          "base_uri": "https://localhost:8080/",
          "height": 946
        },
        "outputId": "a2a1f162-fd04-4bff-89a5-9c269e8ea8e9"
      },
      "source": [
        "tf.tile([1./3,1./3,1./3], [2,])\n",
        "tf.ones((2,3))*tf.constant([1./3,1./3,1./3])\n",
        "amplitude = tf.constant([1., 2.])\n",
        "tf.ones((3, tf.shape(amplitude)[0]))*amplitude \n",
        "pixels = tf.cast(tf.range(0, 100), dtype=tf.float32)\n",
        "test = tfd.Normal(loc = [2., 5.], scale = [2., 0.5])\n",
        "tf.transpose(amplitude*tf.ones((100, 2)))*tf.reshape(test.prob(tf.reshape(tf.ones(( 2, tf.shape(pixels)[0]))*pixels, (tf.shape(pixels)[0], 2))), (2,100))\n",
        "# test.prob(tf.ones(( 2, tf.shape(pixels)[0]))*pixels)"
      ],
      "execution_count": 95,
      "outputs": [
        {
          "output_type": "execute_result",
          "data": {
            "text/plain": [
              "<tf.Tensor: shape=(2, 100), dtype=float32, numpy=\n",
              "array([[1.2098535e-01, 1.0104537e-14, 1.9947115e-01, 2.6766057e-04,\n",
              "        1.2098535e-01, 7.9788458e-01, 2.6995480e-02, 2.6766057e-04,\n",
              "        2.2159240e-03, 1.0104537e-14, 6.6915141e-05, 4.2927658e-32,\n",
              "        7.4336003e-07, 0.0000000e+00, 3.0379428e-09, 0.0000000e+00,\n",
              "        4.5673621e-12, 0.0000000e+00, 2.5261318e-15, 0.0000000e+00,\n",
              "        5.1398796e-19, 0.0000000e+00, 3.8472939e-23, 0.0000000e+00,\n",
              "        1.0594082e-27, 0.0000000e+00, 1.0731945e-32, 0.0000000e+00,\n",
              "        3.9994241e-38, 0.0000000e+00, 0.0000000e+00, 0.0000000e+00,\n",
              "        0.0000000e+00, 0.0000000e+00, 0.0000000e+00, 0.0000000e+00,\n",
              "        0.0000000e+00, 0.0000000e+00, 0.0000000e+00, 0.0000000e+00,\n",
              "        0.0000000e+00, 0.0000000e+00, 0.0000000e+00, 0.0000000e+00,\n",
              "        0.0000000e+00, 0.0000000e+00, 0.0000000e+00, 0.0000000e+00,\n",
              "        0.0000000e+00, 0.0000000e+00, 0.0000000e+00, 0.0000000e+00,\n",
              "        0.0000000e+00, 0.0000000e+00, 0.0000000e+00, 0.0000000e+00,\n",
              "        0.0000000e+00, 0.0000000e+00, 0.0000000e+00, 0.0000000e+00,\n",
              "        0.0000000e+00, 0.0000000e+00, 0.0000000e+00, 0.0000000e+00,\n",
              "        0.0000000e+00, 0.0000000e+00, 0.0000000e+00, 0.0000000e+00,\n",
              "        0.0000000e+00, 0.0000000e+00, 0.0000000e+00, 0.0000000e+00,\n",
              "        0.0000000e+00, 0.0000000e+00, 0.0000000e+00, 0.0000000e+00,\n",
              "        0.0000000e+00, 0.0000000e+00, 0.0000000e+00, 0.0000000e+00,\n",
              "        0.0000000e+00, 0.0000000e+00, 0.0000000e+00, 0.0000000e+00,\n",
              "        0.0000000e+00, 0.0000000e+00, 0.0000000e+00, 0.0000000e+00,\n",
              "        0.0000000e+00, 0.0000000e+00, 0.0000000e+00, 0.0000000e+00,\n",
              "        0.0000000e+00, 0.0000000e+00, 0.0000000e+00, 0.0000000e+00,\n",
              "        0.0000000e+00, 0.0000000e+00, 0.0000000e+00, 0.0000000e+00],\n",
              "       [2.4197070e-01, 2.0209074e-14, 3.9894229e-01, 5.3532113e-04,\n",
              "        2.4197070e-01, 1.5957692e+00, 5.3990960e-02, 5.3532113e-04,\n",
              "        4.4318479e-03, 2.0209074e-14, 1.3383028e-04, 8.5855316e-32,\n",
              "        1.4867201e-06, 0.0000000e+00, 6.0758856e-09, 0.0000000e+00,\n",
              "        9.1347242e-12, 0.0000000e+00, 5.0522635e-15, 0.0000000e+00,\n",
              "        1.0279759e-18, 0.0000000e+00, 7.6945878e-23, 0.0000000e+00,\n",
              "        2.1188165e-27, 0.0000000e+00, 2.1463891e-32, 0.0000000e+00,\n",
              "        7.9988482e-38, 0.0000000e+00, 0.0000000e+00, 0.0000000e+00,\n",
              "        0.0000000e+00, 0.0000000e+00, 0.0000000e+00, 0.0000000e+00,\n",
              "        0.0000000e+00, 0.0000000e+00, 0.0000000e+00, 0.0000000e+00,\n",
              "        0.0000000e+00, 0.0000000e+00, 0.0000000e+00, 0.0000000e+00,\n",
              "        0.0000000e+00, 0.0000000e+00, 0.0000000e+00, 0.0000000e+00,\n",
              "        0.0000000e+00, 0.0000000e+00, 0.0000000e+00, 0.0000000e+00,\n",
              "        0.0000000e+00, 0.0000000e+00, 0.0000000e+00, 0.0000000e+00,\n",
              "        0.0000000e+00, 0.0000000e+00, 0.0000000e+00, 0.0000000e+00,\n",
              "        0.0000000e+00, 0.0000000e+00, 0.0000000e+00, 0.0000000e+00,\n",
              "        0.0000000e+00, 0.0000000e+00, 0.0000000e+00, 0.0000000e+00,\n",
              "        0.0000000e+00, 0.0000000e+00, 0.0000000e+00, 0.0000000e+00,\n",
              "        0.0000000e+00, 0.0000000e+00, 0.0000000e+00, 0.0000000e+00,\n",
              "        0.0000000e+00, 0.0000000e+00, 0.0000000e+00, 0.0000000e+00,\n",
              "        0.0000000e+00, 0.0000000e+00, 0.0000000e+00, 0.0000000e+00,\n",
              "        0.0000000e+00, 0.0000000e+00, 0.0000000e+00, 0.0000000e+00,\n",
              "        0.0000000e+00, 0.0000000e+00, 0.0000000e+00, 0.0000000e+00,\n",
              "        0.0000000e+00, 0.0000000e+00, 0.0000000e+00, 0.0000000e+00,\n",
              "        0.0000000e+00, 0.0000000e+00, 0.0000000e+00, 0.0000000e+00]],\n",
              "      dtype=float32)>"
            ]
          },
          "metadata": {
            "tags": []
          },
          "execution_count": 95
        }
      ]
    },
    {
      "cell_type": "code",
      "metadata": {
        "id": "1JlzKkwlJYiP",
        "colab_type": "code",
        "colab": {
          "base_uri": "https://localhost:8080/",
          "height": 283
        },
        "outputId": "c355559f-2ede-4ebb-e327-5b0526ca5c70"
      },
      "source": [
        "def main_gaussian(sigma_right, sigma_left, sigma_center, lambda_right, lambda_left, lambda_center):\n",
        "  center_dist = tfd.Normal(loc = lambda_center, scale = sigma_center)\n",
        "  print(sigma_right)\n",
        "  try:\n",
        "    print(sigma_right.shape)\n",
        "  except:\n",
        "    pass\n",
        "  left_dist = tfd.Normal(loc = lambda_left, scale = sigma_left)\n",
        "  right_dist = tfd.Normal(loc = lambda_right, scale = sigma_right)\n",
        "  try:\n",
        "    return tfd.Mixture(cat=tfd.Categorical(probs=tf.ones((tf.shape(sigma_right)[0],3))*tf.constant([1./3,1./3,1./3])),\n",
        "  components=[\n",
        "    center_dist,\n",
        "    left_dist,\n",
        "    right_dist\n",
        "  ])\n",
        "  except:\n",
        "    return tfd.Mixture(cat=tfd.Categorical(probs=[1./3,1./3,1./3]),\n",
        "  components=[\n",
        "    center_dist,\n",
        "    left_dist,\n",
        "    right_dist\n",
        "  ])\n",
        "\n",
        "#test:\n",
        "N = 100.\n",
        "x = tf.linspace(0., N*1, int(1e4))\n",
        "plt.plot(x, main_gaussian(15,10,40, 20, 75,50).prob(x));\n"
      ],
      "execution_count": 27,
      "outputs": [
        {
          "output_type": "stream",
          "text": [
            "15\n"
          ],
          "name": "stdout"
        },
        {
          "output_type": "display_data",
          "data": {
            "image/png": "[encoded data removed]",
            "text/plain": [
              "<Figure size 432x288 with 1 Axes>"
            ]
          },
          "metadata": {
            "tags": [],
            "needs_background": "light"
          }
        }
      ]
    },
    {
      "cell_type": "code",
      "metadata": {
        "id": "u6pRuUh0A0bZ",
        "colab_type": "code",
        "colab": {
          "base_uri": "https://localhost:8080/",
          "height": 446
        },
        "outputId": "de7e4880-88ab-4f9b-8c5e-1ca599f37928"
      },
      "source": [
        "#first try of function:\n",
        "#we assume as explained on my onenote doc, a 3 piece gaussian.\n",
        "\n",
        "\n",
        "\n",
        "# def od_sim_left_1d(pixel, ):\n",
        "def joint_dist_gen(amplitude, sigmas, sigma_right, sigma_left, sigma_center, lambda_right, lambda_left, lambda_center, N):\n",
        "  #we assume that each pixel is going to follow a normal distribution with the average given (lambda_i) given by what OD we expect from the \"parrent\" gaussians.\n",
        "  mix = main_gaussian(sigma_right, sigma_left, sigma_center, lambda_right, lambda_left, lambda_center)\n",
        "  pixels = tf.range(0, limit=N, delta=1.)\n",
        "  try:\n",
        "    amp = tf.transpose(tf.ones((tf.shape(pixels)[0], tf.shape(amplitude)[0]))*amplitude)\n",
        "    # amp = amplitude\n",
        "    pixels = pixels*tf.ones((mix.batch_shape[0], tf.shape(pixels)[0]))\n",
        "    probs = tf.reshape(mix.prob(tf.reshape(pixels, (N, mix.batch_shape[0]))), (mix.batch_shape[0], N))\n",
        "    print(\"pixels shape \", pixels.shape)\n",
        "    #print(\"amp \", amp)\n",
        "  except:\n",
        "    amp = amplitude\n",
        "    probs = mix.prob(pixels)\n",
        "    print(\"test\")\n",
        "  print(\"mix shape\", mix.batch_shape)\n",
        "    \n",
        "  print(\"prob shape\", probs.shape)\n",
        "  print(amp.shape)\n",
        "  density = probs*amp #N sized tensor with the OD density of each pixel.\n",
        "  #simulated distribution:\n",
        "  #assume a poissonian dist for the # of counts:\n",
        "  #tfd.Poisson(rate=density)\n",
        "  #assume a normal distribution:\n",
        "  return tfd.Normal(loc = density, scale=sigmas)\n",
        "\n",
        "def closed_joint_dist_gen(N):\n",
        "  #second = lambda r0, gamma, delta, I0, R0, care: self.joint_dist_gen_tr(r0, gamma, I0, R0, care, delta)\n",
        "  first = [# x_tail\n",
        "    tfd.Uniform(low=0., high=1.*N),\n",
        "    #lambda_center\n",
        "    lambda x: tfd.Uniform(low=N/2.-x, high=N/2.+x),\n",
        "    #lambda_left\n",
        "    lambda lambda_center, x: tfd.Uniform(low=0., high=N/2.-x),\n",
        "    #lambda_right:\n",
        "    lambda lambda_left, lambda_center, x: tfd.Uniform(low = N/2.+x, high=N),\n",
        "    #sigma_center\n",
        "    tfd.Uniform(low = 0., high = 1.),\n",
        "    #sigma_left\n",
        "    tfd.Uniform(low = 0., high = 1.),\n",
        "    #sigma_right\n",
        "    tfd.Uniform(low = 0., high = 1.),\n",
        "    #production of the N scales of the N pixels:\n",
        "    tfd.Uniform(low = 0.*tf.ones((N,)), high = 1.*tf.ones((N,))),\n",
        "    #amplitude\n",
        "    tfd.Normal(loc=1., scale=0.5)\n",
        "    ]\n",
        "    \n",
        "  \n",
        "  return tfd.JointDistributionSequential(first+[\n",
        "    # likelihood\n",
        "    #   Using Independent to ensure the log_prob is not incorrectly broadcasted\n",
        "    lambda amplitude , sigmas, sigma_right, sigma_left, sigma_center, lambda_right, lambda_left, lambda_center: #tfd.Independent(\n",
        "    tfd.Independent(\n",
        "        joint_dist_gen(amplitude, sigmas, sigma_right, sigma_left, sigma_center, lambda_right, lambda_left, lambda_center, N),#) #,\n",
        "        reinterpreted_batch_ndims=1)\n",
        "    #), reinterpreted_batch_ndims=1)\n",
        "    ,\n",
        "    #lambda _, care, R0, I0, delta, gamma, r0: tfd.Poisson(rate=np.float32(care*self.Z))\n",
        "    ])\n",
        "dist = closed_joint_dist_gen(100)\n",
        "dist.resolve_graph()"
      ],
      "execution_count": 96,
      "outputs": [
        {
          "output_type": "stream",
          "text": [
            "tf.Tensor(0.1414243, shape=(), dtype=float32)\n",
            "()\n",
            "test\n",
            "mix shape ()\n",
            "prob shape (100,)\n",
            "()\n"
          ],
          "name": "stdout"
        },
        {
          "output_type": "execute_result",
          "data": {
            "text/plain": [
              "(('x', ()),\n",
              " ('lambda_center', ('x',)),\n",
              " ('lambda_left', ('lambda_center', 'x')),\n",
              " ('lambda_right', ('lambda_left', 'lambda_center', 'x')),\n",
              " ('sigma_center', ()),\n",
              " ('sigma_left', ()),\n",
              " ('sigma_right', ()),\n",
              " ('sigmas', ()),\n",
              " ('amplitude', ()),\n",
              " ('x1',\n",
              "  ('amplitude',\n",
              "   'sigmas',\n",
              "   'sigma_right',\n",
              "   'sigma_left',\n",
              "   'sigma_center',\n",
              "   'lambda_right',\n",
              "   'lambda_left',\n",
              "   'lambda_center')))"
            ]
          },
          "metadata": {
            "tags": []
          },
          "execution_count": 96
        }
      ]
    },
    {
      "cell_type": "code",
      "metadata": {
        "id": "UBpQaT87Qiyf",
        "colab_type": "code",
        "colab": {
          "base_uri": "https://localhost:8080/",
          "height": 1000
        },
        "outputId": "bad5430e-651a-4637-d243-3cccafc98dec"
      },
      "source": [
        "#sample the joint distribution:\n",
        "dist.sample(2)"
      ],
      "execution_count": 97,
      "outputs": [
        {
          "output_type": "stream",
          "text": [
            "tf.Tensor([0.04435349 0.26440442], shape=(2,), dtype=float32)\n",
            "(2,)\n",
            "pixels shape  (2, 100)\n",
            "mix shape (2,)\n",
            "prob shape (2, 100)\n",
            "(2, 100)\n"
          ],
          "name": "stdout"
        },
        {
          "output_type": "execute_result",
          "data": {
            "text/plain": [
              "[<tf.Tensor: shape=(2,), dtype=float32, numpy=array([ 1.9274592, 84.560684 ], dtype=float32)>,\n",
              " <tf.Tensor: shape=(2,), dtype=float32, numpy=array([ 48.577038, -26.536348], dtype=float32)>,\n",
              " <tf.Tensor: shape=(2,), dtype=float32, numpy=array([ 25.852596, -31.738688], dtype=float32)>,\n",
              " <tf.Tensor: shape=(2,), dtype=float32, numpy=array([ 64.8296 , 109.79625], dtype=float32)>,\n",
              " <tf.Tensor: shape=(2,), dtype=float32, numpy=array([0.88856924, 0.21886599], dtype=float32)>,\n",
              " <tf.Tensor: shape=(2,), dtype=float32, numpy=array([0.13480496, 0.09150732], dtype=float32)>,\n",
              " <tf.Tensor: shape=(2,), dtype=float32, numpy=array([0.04435349, 0.26440442], dtype=float32)>,\n",
              " <tf.Tensor: shape=(2, 100), dtype=float32, numpy=\n",
              " array([[3.4419167e-01, 1.5079856e-01, 3.6391032e-01, 2.0232475e-01,\n",
              "         8.2792878e-01, 9.1271853e-01, 9.8663688e-02, 1.9067883e-01,\n",
              "         9.1865325e-01, 9.4343817e-01, 2.3114717e-01, 6.5549517e-01,\n",
              "         1.8891549e-01, 4.7348917e-01, 1.0105467e-01, 3.4757733e-01,\n",
              "         4.5827138e-01, 1.2056315e-01, 4.7034597e-01, 9.2698514e-01,\n",
              "         4.0124094e-01, 9.8338330e-01, 7.0205748e-01, 9.1323709e-01,\n",
              "         5.2570653e-01, 1.1169696e-01, 3.9771771e-01, 8.5912132e-01,\n",
              "         6.6331065e-01, 4.5472693e-01, 9.3053544e-01, 4.9051332e-01,\n",
              "         7.0702493e-01, 6.3736236e-01, 6.7239630e-01, 2.7526104e-01,\n",
              "         7.8691328e-01, 2.8505707e-01, 7.3823392e-01, 2.7112532e-01,\n",
              "         4.3044245e-01, 6.7152727e-01, 9.1154742e-01, 1.9561040e-01,\n",
              "         9.0487921e-01, 3.0517805e-01, 5.0827861e-02, 4.3717182e-01,\n",
              "         5.2449012e-01, 7.1050870e-01, 1.3143098e-01, 6.7928791e-02,\n",
              "         3.4208775e-01, 2.2607994e-01, 9.3123269e-01, 1.1956799e-01,\n",
              "         3.7555563e-01, 6.1310351e-01, 6.8090701e-01, 3.4071815e-01,\n",
              "         9.1561747e-01, 5.6064129e-04, 6.3526082e-01, 4.1409731e-02,\n",
              "         8.5707414e-01, 6.2291157e-01, 3.7454891e-01, 8.5003138e-01,\n",
              "         9.9276495e-01, 6.9921637e-01, 9.0723884e-01, 2.2082448e-02,\n",
              "         2.4944377e-01, 7.9253280e-01, 8.3737540e-01, 3.6145806e-01,\n",
              "         5.3729200e-01, 9.2680740e-01, 1.4766383e-01, 3.2541466e-01,\n",
              "         7.1107984e-01, 7.3290265e-01, 7.1791363e-01, 6.1257935e-01,\n",
              "         1.5006554e-01, 9.2738986e-02, 7.6754332e-01, 1.5861726e-01,\n",
              "         6.2353015e-01, 8.4138882e-01, 5.1876307e-03, 3.1676722e-01,\n",
              "         3.0325317e-01, 5.1358938e-01, 7.7944899e-01, 9.2340243e-01,\n",
              "         6.5851319e-01, 5.5047798e-01, 9.0084827e-01, 6.9192803e-01],\n",
              "        [4.6631515e-01, 3.0113065e-01, 8.6907983e-02, 5.6277311e-01,\n",
              "         3.4925497e-01, 8.8485491e-01, 2.2866845e-01, 5.2476859e-01,\n",
              "         4.7518337e-01, 1.6469908e-01, 6.4972079e-01, 4.8998928e-01,\n",
              "         8.5421503e-01, 5.4675841e-01, 9.7891307e-01, 8.6794007e-01,\n",
              "         2.5880933e-02, 9.0761888e-01, 6.5535331e-01, 9.1556215e-01,\n",
              "         2.0315289e-01, 6.3800097e-02, 9.6818328e-02, 2.5927186e-01,\n",
              "         9.8336363e-01, 4.3664384e-01, 3.4628928e-01, 1.3490677e-02,\n",
              "         1.5689909e-01, 9.6517563e-02, 2.1538818e-01, 3.5679233e-01,\n",
              "         2.2747731e-01, 9.4605386e-01, 2.5931013e-01, 2.8708172e-01,\n",
              "         6.6322076e-01, 5.1548564e-01, 5.9757137e-01, 1.6105282e-01,\n",
              "         1.7857265e-01, 9.9880910e-01, 2.3403764e-01, 7.5679207e-01,\n",
              "         8.6715221e-03, 7.3733282e-01, 3.5973048e-01, 1.1087060e-01,\n",
              "         7.2796094e-01, 9.7175217e-01, 8.6644018e-01, 2.3616993e-01,\n",
              "         2.7056205e-01, 3.3512390e-01, 7.2973597e-01, 4.6548903e-01,\n",
              "         6.7049801e-01, 9.2819917e-01, 6.4714551e-01, 9.1090679e-01,\n",
              "         8.8386846e-01, 8.6546659e-01, 5.7003200e-01, 9.9911284e-01,\n",
              "         4.5737767e-01, 2.1588802e-04, 6.4340556e-01, 4.6466351e-01,\n",
              "         1.3044441e-01, 7.1345592e-01, 5.3212857e-01, 3.5383105e-01,\n",
              "         9.5054162e-01, 4.2757130e-01, 7.0469403e-01, 1.0482979e-01,\n",
              "         9.3708920e-01, 6.7301440e-01, 5.6047297e-01, 6.9562471e-01,\n",
              "         9.3945754e-01, 3.6058664e-01, 5.7191777e-01, 4.9987721e-01,\n",
              "         4.7224295e-01, 4.9807250e-01, 5.6172836e-01, 1.7595220e-01,\n",
              "         5.0005662e-01, 5.3742647e-02, 9.4260836e-01, 4.8991227e-01,\n",
              "         9.2441058e-01, 8.8368845e-01, 3.2933569e-01, 8.8961363e-01,\n",
              "         5.9724057e-01, 1.6072989e-02, 5.5628049e-01, 5.7267189e-02]],\n",
              "       dtype=float32)>,\n",
              " <tf.Tensor: shape=(2,), dtype=float32, numpy=array([1.5530503, 1.2026728], dtype=float32)>,\n",
              " <tf.Tensor: shape=(2, 100), dtype=float32, numpy=\n",
              " array([[ 9.90033224e-02, -3.19810547e-02,  5.72313130e-01,\n",
              "         -4.09768462e-01, -5.99096000e-01, -4.74130502e-03,\n",
              "         -9.41407979e-02,  4.47149158e-01,  6.50189146e-02,\n",
              "          1.36802077e+00,  7.62891918e-02, -9.24335659e-01,\n",
              "         -3.22621167e-02,  7.26219490e-02,  8.28031916e-03,\n",
              "         -1.48660466e-01,  1.31423831e-01, -5.84273413e-02,\n",
              "          3.16916436e-01,  2.74732172e-01, -4.14060742e-01,\n",
              "          1.23351908e+00,  3.94056469e-01, -4.99111980e-01,\n",
              "          6.88729465e-01, -2.41637118e-02,  1.05304861e+00,\n",
              "         -1.57913935e+00,  5.95400780e-02, -5.67063987e-01,\n",
              "         -7.70650685e-01,  8.61487925e-01,  1.30232230e-01,\n",
              "         -4.45843637e-01, -1.72584772e-01,  3.30451965e-01,\n",
              "         -1.40161812e+00, -8.71204864e-03,  8.38678330e-02,\n",
              "          1.78828225e-01, -9.42967013e-02,  1.64491981e-01,\n",
              "         -2.12855190e-01, -2.50758022e-01, -5.71572125e-01,\n",
              "         -9.68813077e-02,  2.36577597e-02,  5.17406344e-01,\n",
              "          2.35411480e-01, -1.14991538e-01, -7.96848536e-03,\n",
              "          1.90595500e-02,  6.13096654e-01, -1.31466955e-01,\n",
              "          1.09540021e+00,  1.07023917e-01,  1.81588098e-01,\n",
              "          1.54199854e-01, -2.62691706e-01,  5.70381105e-01,\n",
              "         -3.82424474e-01,  8.12160943e-05,  1.18795693e+00,\n",
              "         -9.62703004e-02, -3.94231170e-01,  7.19509542e-01,\n",
              "         -6.87517703e-01,  8.47839117e-01, -4.12072718e-01,\n",
              "          3.48089755e-01, -3.69441330e-01, -2.67816279e-02,\n",
              "          2.23485947e-01,  3.62573177e-01, -4.94423419e-01,\n",
              "          4.57921252e-02,  3.38313103e-01,  7.22996056e-01,\n",
              "          1.26752295e-02,  1.74859449e-01,  5.47346473e-01,\n",
              "         -8.63573432e-01, -1.59495175e+00,  3.75110686e-01,\n",
              "         -1.49593726e-01,  8.98891166e-02,  1.97144330e-01,\n",
              "         -3.37500945e-02, -8.91313434e-01, -5.49314953e-02,\n",
              "         -9.30930488e-03, -2.13450834e-01,  6.80209219e-01,\n",
              "         -2.78485805e-01,  1.98352467e-02, -6.66049719e-01,\n",
              "          1.83048058e+00,  4.49280381e-01,  6.34923220e-01,\n",
              "         -3.62457842e-01],\n",
              "        [-5.13578095e-02, -1.55581832e-01, -1.27892256e-01,\n",
              "          1.44254729e-01,  2.81813562e-01, -4.10659522e-01,\n",
              "         -2.85361055e-02, -7.94176579e-01, -3.97017419e-01,\n",
              "          1.90926697e-02,  5.27139008e-01, -5.16013563e-01,\n",
              "         -2.17254356e-01,  5.46959162e-01,  7.23527372e-01,\n",
              "         -1.48619473e+00,  2.08912268e-02,  1.04865305e-01,\n",
              "         -9.83415842e-01, -2.48726174e-01,  1.77080691e-01,\n",
              "         -1.23636518e-02, -3.60320807e-02,  3.37951213e-01,\n",
              "          6.70631170e-01, -2.44852439e-01,  9.70990598e-01,\n",
              "          3.07529885e-03, -2.31891945e-01, -2.77423635e-02,\n",
              "         -2.42688224e-01,  1.67713076e-01, -3.68521571e-01,\n",
              "         -6.75984740e-01, -1.32009059e-01,  5.64023554e-01,\n",
              "          5.07753342e-02,  4.86499399e-01,  7.02261150e-01,\n",
              "          2.14314818e-01, -2.76126117e-01,  6.05064273e-01,\n",
              "         -3.94955557e-03,  1.33323085e+00,  1.39642041e-02,\n",
              "         -5.67494452e-01, -3.89930040e-01,  4.31489460e-02,\n",
              "         -3.22221577e-01,  9.23969507e-01, -2.29155287e-01,\n",
              "          5.47589004e-01, -8.78213381e-04,  1.23809449e-01,\n",
              "          1.74359107e+00, -2.50959545e-01, -4.47327077e-01,\n",
              "         -3.91079813e-01, -5.78231633e-01,  8.19111288e-01,\n",
              "         -1.59611261e+00,  1.43198621e+00,  1.35444629e+00,\n",
              "         -1.46762407e+00, -1.62360415e-01,  1.12469948e-04,\n",
              "          1.40373111e+00,  4.88449074e-02, -1.85756266e-01,\n",
              "          8.19982737e-02,  6.30921304e-01,  1.36401802e-01,\n",
              "         -4.83156443e-01, -5.02448857e-01,  6.36477768e-02,\n",
              "         -5.62139563e-02, -8.19394961e-02, -3.26854229e-01,\n",
              "          6.10076010e-01,  1.94046035e-01, -6.75242841e-01,\n",
              "         -4.02398631e-02, -6.90867305e-01,  5.02787530e-01,\n",
              "         -3.87567520e-01, -3.14464509e-01,  8.11826766e-01,\n",
              "         -9.19463038e-02,  1.12634623e+00, -1.16272103e-02,\n",
              "         -3.44567329e-01, -1.09492399e-01,  4.01607782e-01,\n",
              "          1.13646723e-01, -8.32008868e-02, -9.61874843e-01,\n",
              "         -1.01695549e+00,  1.40119027e-02, -7.78924748e-02,\n",
              "         -7.19068795e-02]], dtype=float32)>]"
            ]
          },
          "metadata": {
            "tags": []
          },
          "execution_count": 97
        }
      ]
    },
    {
      "cell_type": "code",
      "metadata": {
        "id": "vpFe4lyrRv9h",
        "colab_type": "code",
        "colab": {}
      },
      "source": [
        ""
      ],
      "execution_count": null,
      "outputs": []
    }
  ]
}